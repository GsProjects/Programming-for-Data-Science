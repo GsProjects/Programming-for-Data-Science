{
 "cells": [
  {
   "cell_type": "markdown",
   "metadata": {},
   "source": [
    "# Data quality issues\n",
    "The first data quality issue I know exists is different spellings of the same DBA name. To attempt to counteract this I intend to change all DBA names to lowercase and remove any apostrophes, commas full stops and hypens. I will also remove leading and trailing whitespace. I Noticed some DBA Names are in no way related to their aka name e.g. inpection id 2099050\n",
    "\n",
    "Another issue I intend to fix is location data being stored as seperate values and also in a comined string in the location column. From my initial inspections the location data in the location column appears to be more accurate so removing the seperate location rows would appear to be the better option. I initially populate the location column if its empty by creating a set and storing the values from the latitude and longitude columns in it. There are also some outliers regarding the location, longitude and latitude rows. There were approximately 548 rows without any location latitude or longitude data but I still keep these rows as theres also an address and zip code which could be used to locate a premises. Note there where no rows missing an address value.\n",
    "\n",
    "I also noticed that some rows are missing information, therefore I chose to populate these rows with the value null as they are predominatly text based. If they were numerically based then you could potentially fill the missing values with a zero to keep the rows. \n",
    "\n",
    "In rows that are missing an AKA Name I will copy in the DBA Name. Or in rows that are missing a DBA Name I copy in the AKA Name. \n",
    "# SHOULD I REPLACE THE DBA NAME AS ITS THE LEGAL NAME USED BY THE PREMISES\n",
    "\n",
    "As the data is based on premises's in Chicago Illinois, the state column was dropped. \n",
    "\n",
    "I noticed that some city values contained misspellings or were populated with names of other cities in Illinois. As the dataset is supposed to be based purely on premises in chicago I removed any row whose city value did not contain the substring chicago in it. Also one city value used was \"chcicago\". As looking for the substring \"chicago\" would not work in this case I look specifically for this value also and change it to \"chicago\". When a city does not contain the chicago substring, I remove the original value and insert 'non-chicago address, attention required' in its place meaning the address or the location column should be used to determine which city the facility is in.\n",
    "\n",
    "\n",
    "Premises with a result of Not ready and no entry and out of business columns have no data in the violations column\n",
    "Some premises that Pass also have an empty violations column.\n",
    "\n",
    "Also the dates were in the format mm/dd/yyyy. To adjust this I split the date on the occurence of the \"/\" and reconstruct the date so it is in the format of dd/mm/yyyy.\n",
    "\n",
    "How to deal with rows with no location, latitude,longitude facility type , risk, INSPECTION TYPE\n",
    "\n",
    "I found a row where every cell was empty except the dba name which had the value of 1396052\n",
    "\n",
    "Dataset description: https://data.cityofchicago.org/api/assets/BAD5301B-681A-4202-9D25-51B2CAE672FF\n",
    "\n",
    "# rows with no license number\n",
    "# rows with duplicate license numbers\n",
    "# mispellings in inspection type\n",
    "# inspection type value DUPLICATED\n"
   ]
  },
  {
   "cell_type": "code",
   "execution_count": 27,
   "metadata": {},
   "outputs": [
    {
     "name": "stdout",
     "output_type": "stream",
     "text": [
      "99\n"
     ]
    }
   ],
   "source": [
    "import csv\n",
    "from collections import Counter\n",
    "food = list(csv.DictReader(open('Temporary.csv')))\n",
    "print(len(food))\n"
   ]
  },
  {
   "cell_type": "code",
   "execution_count": 28,
   "metadata": {},
   "outputs": [
    {
     "ename": "NameError",
     "evalue": "name 'dba_names' is not defined",
     "output_type": "error",
     "traceback": [
      "\u001b[0;31m---------------------------------------------------------------------------\u001b[0m",
      "\u001b[0;31mNameError\u001b[0m                                 Traceback (most recent call last)",
      "\u001b[0;32m<ipython-input-28-7f63acc8ed57>\u001b[0m in \u001b[0;36m<module>\u001b[0;34m()\u001b[0m\n\u001b[1;32m      3\u001b[0m     \u001b[0mdba_name\u001b[0m\u001b[0;34m.\u001b[0m\u001b[0madd\u001b[0m\u001b[0;34m(\u001b[0m\u001b[0mx\u001b[0m\u001b[0;34m[\u001b[0m\u001b[0;34m'DBA Name'\u001b[0m\u001b[0;34m]\u001b[0m\u001b[0;34m)\u001b[0m\u001b[0;34m\u001b[0m\u001b[0m\n\u001b[1;32m      4\u001b[0m \u001b[0;34m\u001b[0m\u001b[0m\n\u001b[0;32m----> 5\u001b[0;31m \u001b[0mprint\u001b[0m\u001b[0;34m(\u001b[0m\u001b[0mlen\u001b[0m\u001b[0;34m(\u001b[0m\u001b[0mdba_names\u001b[0m\u001b[0;34m)\u001b[0m\u001b[0;34m)\u001b[0m\u001b[0;34m\u001b[0m\u001b[0m\n\u001b[0m",
      "\u001b[0;31mNameError\u001b[0m: name 'dba_names' is not defined"
     ]
    }
   ],
   "source": [
    "dba_name = set()\n",
    "for x in food:\n",
    "    dba_name.add(x['DBA Name'])\n",
    "\n",
    "print(len(dba_names))"
   ]
  },
  {
   "cell_type": "code",
   "execution_count": null,
   "metadata": {
    "collapsed": true
   },
   "outputs": [],
   "source": [
    "new_food = []\n",
    "for x in food:\n",
    "    x['DBA Name'] = x['DBA Name'].lower()\n",
    "    new_food.append(x)"
   ]
  },
  {
   "cell_type": "code",
   "execution_count": null,
   "metadata": {
    "collapsed": true
   },
   "outputs": [],
   "source": [
    "dba_names = set()\n",
    "for x in new_food:\n",
    "    dba_names.add(x['DBA Name'])"
   ]
  },
  {
   "cell_type": "code",
   "execution_count": null,
   "metadata": {},
   "outputs": [],
   "source": [
    "dir(dba_names)\n",
    "len(dba_names)"
   ]
  },
  {
   "cell_type": "markdown",
   "metadata": {},
   "source": [
    "Having converted all the DBA Names to lower case and creating a set of DBA Names, there are 24610 individual DBA Names"
   ]
  },
  {
   "cell_type": "code",
   "execution_count": null,
   "metadata": {},
   "outputs": [],
   "source": [
    "new_foods = []\n",
    "i = 0\n",
    "for x in new_food:\n",
    "    x['DBA Name'] = x['DBA Name'].replace(\"'\",\"\")\n",
    "    x['DBA Name'] = x['DBA Name'].replace(\".\",\"\")\n",
    "    x['DBA Name'] = x['DBA Name'].replace(\",\",\"\")\n",
    "    if x['AKA Name'] == '':\n",
    "        x['AKA Name'] = x['DBA Name']\n",
    "    elif x['City'] == '':\n",
    "        x['City'] = 'CHICAGO'\n",
    "    elif x['State'] == '':\n",
    "        x['State'] = 'IL'\n",
    "    new_foods.append(x)\n",
    "    \n",
    "dba = set()\n",
    "for x in new_foods:\n",
    "    dba.add(x['DBA Name'])\n"
   ]
  },
  {
   "cell_type": "code",
   "execution_count": null,
   "metadata": {
    "collapsed": true
   },
   "outputs": [],
   "source": [
    "{row['DBA Name'] for row in new_foods}"
   ]
  },
  {
   "cell_type": "code",
   "execution_count": null,
   "metadata": {
    "collapsed": true
   },
   "outputs": [],
   "source": [
    "from collections import Counter\n",
    "names = Counter(row['DBA Name'] for row in new_foods)"
   ]
  },
  {
   "cell_type": "code",
   "execution_count": null,
   "metadata": {
    "collapsed": true
   },
   "outputs": [],
   "source": [
    "print(names)"
   ]
  },
  {
   "cell_type": "code",
   "execution_count": null,
   "metadata": {
    "collapsed": true
   },
   "outputs": [],
   "source": [
    "v =0\n",
    "z = Counter()\n",
    "\n",
    "for x in new_food:\n",
    "    for y in x: \n",
    "\n",
    "        if x[y] == '':\n",
    "            temp = x[y]\n",
    "            z.update(temp)\n",
    "            v += 1\n",
    "for i in z:\n",
    "    print(i)"
   ]
  },
  {
   "cell_type": "code",
   "execution_count": null,
   "metadata": {},
   "outputs": [],
   "source": [
    "s = [row['License #'] for row in food]\n",
    "\n",
    "a = Counter(row for row in s)\n",
    "#t = [row for row in food if row['Address'] == '11601 W TOUHY AVE ']\n",
    "#print({row['DBA Name'] for row in t})\n",
    "print(a)"
   ]
  },
  {
   "cell_type": "code",
   "execution_count": null,
   "metadata": {},
   "outputs": [],
   "source": [
    "newlist = []\n",
    "for items in food:\n",
    "    if items['License #'] == '':\n",
    "        print(items)\n",
    "        newlist.append(items)\n",
    "print(newlist)\n",
    "\n",
    "        \n",
    "'''with open('TemporaryOutput.csv', \"w\") as fh:\n",
    "    out_csv = csv.DictWriter(fh, list(food[0].keys()))\n",
    "    out_csv.writeheader()\n",
    "    out_csv.writerows(newlist)'''"
   ]
  },
  {
   "cell_type": "code",
   "execution_count": 22,
   "metadata": {},
   "outputs": [
    {
     "ename": "SyntaxError",
     "evalue": "invalid syntax (<ipython-input-22-1ea8997b09d0>, line 1)",
     "output_type": "error",
     "traceback": [
      "\u001b[0;36m  File \u001b[0;32m\"<ipython-input-22-1ea8997b09d0>\"\u001b[0;36m, line \u001b[0;32m1\u001b[0m\n\u001b[0;31m    {row['Inspection Type'] for row in food: row['Inspection Type'].replace('/','') row['Inspection Type'].replace('-','')}\u001b[0m\n\u001b[0m                                           ^\u001b[0m\n\u001b[0;31mSyntaxError\u001b[0m\u001b[0;31m:\u001b[0m invalid syntax\n"
     ]
    }
   ],
   "source": [
    "{row['Inspection Type'] for row in food: row['Inspection Type'].replace('/','') row['Inspection Type'].replace('-','')}"
   ]
  },
  {
   "cell_type": "code",
   "execution_count": null,
   "metadata": {},
   "outputs": [],
   "source": [
    "print(len(Counter(row['Inspection ID'] for row in food if row['Location'] == '' or row ['Longitude'] == '' or row ['Latitude'] == '')))"
   ]
  },
  {
   "cell_type": "code",
   "execution_count": null,
   "metadata": {},
   "outputs": [],
   "source": [
    "a = [row['Violations'] for row in food if '|' not in row['Violations']]\n",
    "print(a[7])\n",
    "print(a[7].split('-'))"
   ]
  },
  {
   "cell_type": "code",
   "execution_count": null,
   "metadata": {},
   "outputs": [],
   "source": [
    "for items in food:\n",
    "    if '|' in items['Violations']:\n",
    "        print(items['Violations'])\n",
    "        print('!!!!!!!!!!!!!!!!!!!!!!!!!!!!!!!!!!!!!!!!!!!!')\n",
    "        temporary_violation = items['Violations'].split('|')\n",
    "        for errors in temporary_violation:\n",
    "            print(errors)\n",
    "            print('########################################')\n",
    "            \n",
    "        \n",
    "        break"
   ]
  },
  {
   "cell_type": "code",
   "execution_count": null,
   "metadata": {},
   "outputs": [],
   "source": [
    "for items in food:\n",
    "    items['Violations'] = items['Violations'].replace('|',' ')\n",
    "    print (items['Violations'])\n",
    "    break"
   ]
  },
  {
   "cell_type": "code",
   "execution_count": null,
   "metadata": {},
   "outputs": [],
   "source": [
    "  "
   ]
  },
  {
   "cell_type": "code",
   "execution_count": 24,
   "metadata": {},
   "outputs": [
    {
     "name": "stdout",
     "output_type": "stream",
     "text": [
      "{'', 'liquor catering', 'citation re-issued', 'error save', 'complaint-fire', 'complaint', 'canvas', 'task force liquor inspection 1474', 'haccp questionaire', 'summer feeding', 'suspected food poisoning re-inspection', 'license consultation', 'smoking complaint', 'license daycare 1586', 'finish complaint inspection from 5-18-10', 'complaint re-inspection', 'recall inspection', 'reinspection', 'changed court date', 'taskforce', 'tavern 1470', 'license renewal inspection for daycare', 'duplicated', 'task force package goods 1474', 'owner suspended operation/license', 'kitchen closed for renovation', 'sample collection', 'day care license renewal', 'expansion', 'task force liquor 1470', 'liqour task force not ready', 'business not located', 'task force liquor 1474', 'no entry-short complaint)', 'not ready', 'task force liquor catering', 'no entry', 'task force liquor 1475', 'consultation', 'out ofbusiness', 'short form complaint', 'sfp', 'sfp/complaint', 'out of business', 'non-inspection', 'task force package liquor', 'close-up/complaint reinspection', 'license wrong address', 'license re-inspection', 'special task force', 'pre-license consultation', 'citf', 'canvass for rib fest', 'addendum', 're-inspection of close-up', 'short form fire-complaint', 'task force for liquor 1474', 'recent inspection', \"kids cafe'\", 'fire/complain', 'o.b.', 'fire complaint', 'two people ate and got sick.', 'complaint-fire re-inspection', 'license-task force', 'illegal operation', 'task force night', 'special events (festivals)', 'kids cafe', 'possible fbi', 'license canceled by owner', 'task force not ready', 'task force(1470) liquor tavern', 'task force', 'license task force / not -for-profit club', 'license request', 'task force liquor (1481)', 'sfp recently inspected', '1315 license reinspection', 'reinspection of 48 hour notice', 'canvass/special event', 'canvass re inspection of close up', 'suspected food poisoning', 'license task 1474', 'license', 'tag removal', 'canvass school/special event', 'canvass re-inspection', 'license task force / not -for-profit clu', 'fire', 'package liquor 1474', 'canvass', 'license/not ready', 'canvass special events', 'taste of chicago', 'corrective action', 'license renewal for daycare'}\n"
     ]
    }
   ],
   "source": [
    "print({row['Inspection Type'].lower() for row in food})"
   ]
  },
  {
   "cell_type": "code",
   "execution_count": null,
   "metadata": {},
   "outputs": [],
   "source": []
  },
  {
   "cell_type": "code",
   "execution_count": null,
   "metadata": {},
   "outputs": [],
   "source": [
    " [row['Inspection Date'] for row in food if '-' in row['Inspection Date'] ]"
   ]
  },
  {
   "cell_type": "code",
   "execution_count": 14,
   "metadata": {},
   "outputs": [
    {
     "name": "stdout",
     "output_type": "stream",
     "text": [
      "['__class__', '__contains__', '__delattr__', '__delitem__', '__dict__', '__dir__', '__doc__', '__eq__', '__format__', '__ge__', '__getattribute__', '__getitem__', '__gt__', '__hash__', '__init__', '__init_subclass__', '__iter__', '__le__', '__len__', '__lt__', '__ne__', '__new__', '__reduce__', '__reduce_ex__', '__repr__', '__reversed__', '__setattr__', '__setitem__', '__sizeof__', '__str__', '__subclasshook__', 'clear', 'copy', 'fromkeys', 'get', 'items', 'keys', 'move_to_end', 'pop', 'popitem', 'setdefault', 'update', 'values']\n",
      "17\n"
     ]
    }
   ],
   "source": [
    "for items in food:\n",
    "    print(dir(items))\n",
    "    print(len(items.values()))\n",
    "    break"
   ]
  },
  {
   "cell_type": "code",
   "execution_count": 29,
   "metadata": {},
   "outputs": [
    {
     "name": "stdout",
     "output_type": "stream",
     "text": [
      "10/31/2017\n"
     ]
    }
   ],
   "source": [
    "\n",
    "for d in food:\n",
    "    if d['Inspection Date'] != '':\n",
    "        d['Inspection Date'] = d['Inspection Date'].replace('-','/')\n",
    "        print(d['Inspection Date'])\n",
    "        break"
   ]
  },
  {
   "cell_type": "code",
   "execution_count": null,
   "metadata": {
    "collapsed": true
   },
   "outputs": [],
   "source": []
  }
 ],
 "metadata": {
  "kernelspec": {
   "display_name": "Python 3",
   "language": "python",
   "name": "python3"
  },
  "language_info": {
   "codemirror_mode": {
    "name": "ipython",
    "version": 3
   },
   "file_extension": ".py",
   "mimetype": "text/x-python",
   "name": "python",
   "nbconvert_exporter": "python",
   "pygments_lexer": "ipython3",
   "version": "3.6.2"
  }
 },
 "nbformat": 4,
 "nbformat_minor": 2
}
