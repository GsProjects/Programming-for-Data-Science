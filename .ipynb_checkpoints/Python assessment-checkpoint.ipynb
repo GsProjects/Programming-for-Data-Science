{
 "cells": [
  {
   "cell_type": "markdown",
   "metadata": {},
   "source": [
    "# Data quality issues\n",
    "The first data quality issue I know exists is different spellings of the same DBA name. To attempt to counteract this I intend to change all DBA names to lowercase and remove any apostrophes, commas full stops and hypens. I will also remove leading and trailing whitespace. I Noticed some DBA Names are in no way related to their aka name e.g. inpection id 2099050\n",
    "\n",
    "Another issue I intend to fix is location data being stored as seperate values and also in a comined string in the location column. From my initial inspections the location data in the location column appears to be more accurate so removing the seperate location rows would appear to be the better option. I initially populate the location column if its empty by creating a set and storing the values from the latitude and longitude columns in it. There are also some outliers regarding the location, longitude and latitude rows. There were approximately 548 rows without any location latitude or longitude data but I still keep these rows as theres also an address and zip code which could be used to locate a premises. Note there where no rows missing an address value.\n",
    "\n",
    "I also noticed that some rows are missing information, therefore I chose to populate these rows with the value null as they are predominatly text based. If they were numerically based then you could potentially fill the missing values with a zero to keep the rows. \n",
    "\n",
    "In rows that are missing an AKA Name I will copy in the DBA Name. Or in rows that are missing a DBA Name I copy in the AKA Name. \n",
    "# SHOULD I REPLACE THE DBA NAME AS ITS THE LEGAL NAME USED BY THE PREMISES\n",
    "\n",
    "As the data is based on premises's in Chicago Illinois, the state column was dropped. \n",
    "\n",
    "I noticed that some city values contained misspellings or were populated with names of other cities in Illinois. As the dataset is supposed to be based purely on premises in chicago I removed any row whose city value did not contain the substring chicago in it. Also one city value used was \"chcicago\". As looking for the substring \"chicago\" would not work in this case I look specifically for this value also and change it to \"chicago\". When a city does not contain the chicago substring, I remove the original value and insert 'non-chicago address, attention required' in its place meaning the address or the location column should be used to determine which city the facility is in.\n",
    "\n",
    "\n",
    "Premises with a result of Not ready and no entry and out of business columns have no data in the violations column\n",
    "Some premises that Pass also have an empty violations column.\n",
    "\n",
    "Also the dates were in the format mm/dd/yyyy. To adjust this I split the date on the occurence of the \"/\" and reconstruct the date so it is in the format of dd/mm/yyyy.\n",
    "\n",
    "How to deal with rows with no location, latitude,longitude facility type , risk, INSPECTION TYPE\n",
    "\n",
    "I found a row where every cell was empty except the dba name which had the value of 1396052\n",
    "\n",
    "Dataset description: https://data.cityofchicago.org/api/assets/BAD5301B-681A-4202-9D25-51B2CAE672FF\n",
    "\n",
    "# rows with no license number\n",
    "# rows with duplicate license numbers\n",
    "# mispellings in inspection type\n",
    "# inspection type value DUPLICATED\n"
   ]
  },
  {
   "cell_type": "code",
   "execution_count": 2,
   "metadata": {},
   "outputs": [
    {
     "name": "stdout",
     "output_type": "stream",
     "text": [
      "157784\n"
     ]
    }
   ],
   "source": [
    "import csv\n",
    "from collections import Counter\n",
    "food = list(csv.DictReader(open('Food_Inspections.csv')))\n",
    "print(len(food))\n"
   ]
  },
  {
   "cell_type": "code",
   "execution_count": null,
   "metadata": {},
   "outputs": [],
   "source": [
    "dba_name = set()\n",
    "for x in food:\n",
    "    dba_name.add(x['DBA Name'])\n",
    "\n",
    "print(len(dba_names))"
   ]
  },
  {
   "cell_type": "code",
   "execution_count": null,
   "metadata": {
    "collapsed": true
   },
   "outputs": [],
   "source": [
    "new_food = []\n",
    "for x in food:\n",
    "    x['DBA Name'] = x['DBA Name'].lower()\n",
    "    new_food.append(x)"
   ]
  },
  {
   "cell_type": "code",
   "execution_count": null,
   "metadata": {
    "collapsed": true
   },
   "outputs": [],
   "source": [
    "dba_names = set()\n",
    "for x in new_food:\n",
    "    dba_names.add(x['DBA Name'])"
   ]
  },
  {
   "cell_type": "code",
   "execution_count": null,
   "metadata": {},
   "outputs": [],
   "source": [
    "dir(dba_names)\n",
    "len(dba_names)"
   ]
  },
  {
   "cell_type": "markdown",
   "metadata": {},
   "source": [
    "Having converted all the DBA Names to lower case and creating a set of DBA Names, there are 24610 individual DBA Names"
   ]
  },
  {
   "cell_type": "code",
   "execution_count": null,
   "metadata": {},
   "outputs": [],
   "source": [
    "new_foods = []\n",
    "i = 0\n",
    "for x in new_food:\n",
    "    x['DBA Name'] = x['DBA Name'].replace(\"'\",\"\")\n",
    "    x['DBA Name'] = x['DBA Name'].replace(\".\",\"\")\n",
    "    x['DBA Name'] = x['DBA Name'].replace(\",\",\"\")\n",
    "    if x['AKA Name'] == '':\n",
    "        x['AKA Name'] = x['DBA Name']\n",
    "    elif x['City'] == '':\n",
    "        x['City'] = 'CHICAGO'\n",
    "    elif x['State'] == '':\n",
    "        x['State'] = 'IL'\n",
    "    new_foods.append(x)\n",
    "    \n",
    "dba = set()\n",
    "for x in new_foods:\n",
    "    dba.add(x['DBA Name'])\n"
   ]
  },
  {
   "cell_type": "code",
   "execution_count": null,
   "metadata": {
    "collapsed": true
   },
   "outputs": [],
   "source": [
    "{row['DBA Name'] for row in new_foods}"
   ]
  },
  {
   "cell_type": "code",
   "execution_count": null,
   "metadata": {
    "collapsed": true
   },
   "outputs": [],
   "source": [
    "from collections import Counter\n",
    "names = Counter(row['DBA Name'] for row in new_foods)"
   ]
  },
  {
   "cell_type": "code",
   "execution_count": null,
   "metadata": {
    "collapsed": true
   },
   "outputs": [],
   "source": [
    "print(names)"
   ]
  },
  {
   "cell_type": "code",
   "execution_count": null,
   "metadata": {
    "collapsed": true
   },
   "outputs": [],
   "source": [
    "v =0\n",
    "z = Counter()\n",
    "\n",
    "for x in new_food:\n",
    "    for y in x: \n",
    "\n",
    "        if x[y] == '':\n",
    "            temp = x[y]\n",
    "            z.update(temp)\n",
    "            v += 1\n",
    "for i in z:\n",
    "    print(i)"
   ]
  },
  {
   "cell_type": "code",
   "execution_count": null,
   "metadata": {},
   "outputs": [],
   "source": [
    "s = [row['License #'] for row in food]\n",
    "\n",
    "a = Counter(row for row in s)\n",
    "#t = [row for row in food if row['Address'] == '11601 W TOUHY AVE ']\n",
    "#print({row['DBA Name'] for row in t})\n",
    "print(a)"
   ]
  },
  {
   "cell_type": "code",
   "execution_count": null,
   "metadata": {},
   "outputs": [],
   "source": [
    "newlist = []\n",
    "for items in food:\n",
    "    if items['License #'] == '':\n",
    "        print(items)\n",
    "        newlist.append(items)\n",
    "print(newlist)\n",
    "\n",
    "        \n",
    "'''with open('TemporaryOutput.csv', \"w\") as fh:\n",
    "    out_csv = csv.DictWriter(fh, list(food[0].keys()))\n",
    "    out_csv.writeheader()\n",
    "    out_csv.writerows(newlist)'''"
   ]
  },
  {
   "cell_type": "code",
   "execution_count": 15,
   "metadata": {},
   "outputs": [
    {
     "data": {
      "text/plain": [
       "{'',\n",
       " '1315 license reinspection',\n",
       " 'ADDENDUM',\n",
       " 'Business Not Located',\n",
       " 'CANVAS',\n",
       " 'CANVASS',\n",
       " 'CANVASS FOR RIB FEST',\n",
       " 'CANVASS RE INSPECTION OF CLOSE UP',\n",
       " 'CANVASS SCHOOL/SPECIAL EVENT',\n",
       " 'CANVASS SPECIAL EVENTS',\n",
       " 'CANVASS/SPECIAL EVENT',\n",
       " 'CHANGED COURT DATE',\n",
       " 'CITF',\n",
       " 'CLOSE-UP/COMPLAINT REINSPECTION',\n",
       " 'CORRECTIVE ACTION',\n",
       " 'Canvass',\n",
       " 'Canvass Re-Inspection',\n",
       " 'Complaint',\n",
       " 'Complaint Re-Inspection',\n",
       " 'Complaint-Fire',\n",
       " 'Complaint-Fire Re-inspection',\n",
       " 'Consultation',\n",
       " 'DAY CARE LICENSE RENEWAL',\n",
       " 'Duplicated',\n",
       " 'FIRE',\n",
       " 'FIRE/COMPLAIN',\n",
       " 'HACCP QUESTIONAIRE',\n",
       " 'Illegal Operation',\n",
       " 'KIDS CAFE',\n",
       " 'KITCHEN CLOSED FOR RENOVATION',\n",
       " \"Kids Cafe'\",\n",
       " 'LICENSE',\n",
       " 'LICENSE CANCELED BY OWNER',\n",
       " 'LICENSE CONSULTATION',\n",
       " 'LICENSE DAYCARE 1586',\n",
       " 'LICENSE RENEWAL FOR DAYCARE',\n",
       " 'LICENSE RENEWAL INSPECTION FOR DAYCARE',\n",
       " 'LICENSE REQUEST',\n",
       " 'LICENSE TASK FORCE / NOT -FOR-PROFIT CLU',\n",
       " 'LICENSE TASK FORCE / NOT -FOR-PROFIT CLUB',\n",
       " 'LICENSE WRONG ADDRESS',\n",
       " 'LICENSE/NOT READY',\n",
       " 'LIQOUR TASK FORCE NOT READY',\n",
       " 'LIQUOR CATERING',\n",
       " 'License',\n",
       " 'License Re-Inspection',\n",
       " 'License consultation',\n",
       " 'License-Task Force',\n",
       " 'NO ENTRY',\n",
       " 'NO ENTRY-SHORT COMPLAINT)',\n",
       " 'No Entry',\n",
       " 'No entry',\n",
       " 'Non-Inspection',\n",
       " 'Not Ready',\n",
       " 'O.B.',\n",
       " 'OUT OF BUSINESS',\n",
       " 'OWNER SUSPENDED OPERATION/LICENSE',\n",
       " 'Out of Business',\n",
       " 'POSSIBLE FBI',\n",
       " 'Package Liquor 1474',\n",
       " 'Pre-License Consultation',\n",
       " 'RE-INSPECTION OF CLOSE-UP',\n",
       " 'RECALL INSPECTION',\n",
       " 'REINSPECTION',\n",
       " 'REINSPECTION OF 48 HOUR NOTICE',\n",
       " 'Recent Inspection',\n",
       " 'SFP',\n",
       " 'SFP RECENTLY INSPECTED',\n",
       " 'SFP/COMPLAINT',\n",
       " 'SFP/Complaint',\n",
       " 'SMOKING COMPLAINT',\n",
       " 'SPECIAL TASK FORCE',\n",
       " 'Sample Collection',\n",
       " 'Short Form Complaint',\n",
       " 'Short Form Fire-Complaint',\n",
       " 'Special Events (Festivals)',\n",
       " 'Special Task Force',\n",
       " 'Summer Feeding',\n",
       " 'Suspected Food Poisoning',\n",
       " 'Suspected Food Poisoning Re-inspection',\n",
       " 'TASK FORCE LIQUOR (1481)',\n",
       " 'TASK FORCE LIQUOR 1470',\n",
       " 'TASK FORCE LIQUOR 1474',\n",
       " 'TASK FORCE NIGHT',\n",
       " 'TASK FORCE NOT READY',\n",
       " 'TASK FORCE PACKAGE GOODS 1474',\n",
       " 'TASK FORCE PACKAGE LIQUOR',\n",
       " 'TASKFORCE',\n",
       " 'TASTE OF CHICAGO',\n",
       " 'TAVERN 1470',\n",
       " 'TWO PEOPLE ATE AND GOT SICK.',\n",
       " 'Tag Removal',\n",
       " 'Task Force Liquor 1475',\n",
       " 'Task Force Liquor Catering',\n",
       " 'Task Force for liquor 1474',\n",
       " 'Task force liquor inspection 1474',\n",
       " 'citation re-issued',\n",
       " 'error save',\n",
       " 'expansion',\n",
       " 'finish complaint inspection from 5-18-10',\n",
       " 'fire complaint',\n",
       " 'license',\n",
       " 'license task 1474',\n",
       " 'no entry',\n",
       " 'out ofbusiness',\n",
       " 'sfp/complaint',\n",
       " 'task force',\n",
       " 'task force(1470) liquor tavern'}"
      ]
     },
     "execution_count": 15,
     "metadata": {},
     "output_type": "execute_result"
    }
   ],
   "source": [
    "{row['Inspection Type'] for row in food row['Inspection Type'].replace('/','') row['Inspection Type'].replace('-','')}"
   ]
  },
  {
   "cell_type": "code",
   "execution_count": null,
   "metadata": {},
   "outputs": [],
   "source": [
    "print(len(Counter(row['Inspection ID'] for row in food if row['Location'] == '' or row ['Longitude'] == '' or row ['Latitude'] == '')))"
   ]
  },
  {
   "cell_type": "code",
   "execution_count": null,
   "metadata": {},
   "outputs": [],
   "source": [
    "a = [row['Violations'] for row in food if '|' not in row['Violations']]\n",
    "print(a[7])\n",
    "print(a[7].split('-'))"
   ]
  },
  {
   "cell_type": "code",
   "execution_count": null,
   "metadata": {},
   "outputs": [],
   "source": [
    "for items in food:\n",
    "    if '|' in items['Violations']:\n",
    "        print(items['Violations'])\n",
    "        print('!!!!!!!!!!!!!!!!!!!!!!!!!!!!!!!!!!!!!!!!!!!!')\n",
    "        temporary_violation = items['Violations'].split('|')\n",
    "        for errors in temporary_violation:\n",
    "            print(errors)\n",
    "            print('########################################')\n",
    "            \n",
    "        \n",
    "        break"
   ]
  },
  {
   "cell_type": "code",
   "execution_count": null,
   "metadata": {},
   "outputs": [],
   "source": [
    "for items in food:\n",
    "    items['Violations'] = items['Violations'].replace('|',' ')\n",
    "    print (items['Violations'])\n",
    "    break"
   ]
  },
  {
   "cell_type": "code",
   "execution_count": null,
   "metadata": {},
   "outputs": [],
   "source": [
    "  "
   ]
  },
  {
   "cell_type": "code",
   "execution_count": null,
   "metadata": {},
   "outputs": [],
   "source": [
    "print({row['Inspection Type'] for row in food})"
   ]
  },
  {
   "cell_type": "code",
   "execution_count": null,
   "metadata": {},
   "outputs": [],
   "source": []
  },
  {
   "cell_type": "code",
   "execution_count": null,
   "metadata": {},
   "outputs": [],
   "source": [
    " [row['Inspection Date'] for row in food if '-' in row['Inspection Date'] ]"
   ]
  },
  {
   "cell_type": "code",
   "execution_count": 14,
   "metadata": {},
   "outputs": [
    {
     "name": "stdout",
     "output_type": "stream",
     "text": [
      "['__class__', '__contains__', '__delattr__', '__delitem__', '__dict__', '__dir__', '__doc__', '__eq__', '__format__', '__ge__', '__getattribute__', '__getitem__', '__gt__', '__hash__', '__init__', '__init_subclass__', '__iter__', '__le__', '__len__', '__lt__', '__ne__', '__new__', '__reduce__', '__reduce_ex__', '__repr__', '__reversed__', '__setattr__', '__setitem__', '__sizeof__', '__str__', '__subclasshook__', 'clear', 'copy', 'fromkeys', 'get', 'items', 'keys', 'move_to_end', 'pop', 'popitem', 'setdefault', 'update', 'values']\n",
      "17\n"
     ]
    }
   ],
   "source": [
    "for items in food:\n",
    "    print(dir(items))\n",
    "    print(len(items.values()))\n",
    "    break"
   ]
  },
  {
   "cell_type": "code",
   "execution_count": 20,
   "metadata": {},
   "outputs": [
    {
     "name": "stdout",
     "output_type": "stream",
     "text": [
      "OrderedDict([('Inspection ID', '233935'), ('DBA Name', 'ARIEL ACADEMY/NORTH KENWOOD OAKLAND SCHOOL'), ('AKA Name', 'ARIEL ACADEMY/NORTH KENWOOD OAKLAND SCHOOL'), ('License #', '23421'), ('Facility Type', 'School'), ('Risk', 'Risk 1 (High)'), ('Address', '1119 E 46th ST (4600S) '), ('City', 'CHICAGO'), ('State', 'IL'), ('Zip', '60653'), ('Inspection Date', '05/18/2010'), ('Inspection Type', 'Duplicated'), ('Results', 'Fail'), ('Violations', ''), ('Latitude', '41.81133445243728'), ('Longitude', '-87.59850029840972'), ('Location', '(41.81133445243728, -87.59850029840972)')])\n",
      "1\n"
     ]
    }
   ],
   "source": [
    "i =0\n",
    "for items in food:\n",
    "    if items['Inspection Type'] == 'Duplicated':\n",
    "        print(items)\n",
    "        i+=1\n",
    "        \n",
    "print(i)"
   ]
  },
  {
   "cell_type": "code",
   "execution_count": null,
   "metadata": {
    "collapsed": true
   },
   "outputs": [],
   "source": []
  }
 ],
 "metadata": {
  "kernelspec": {
   "display_name": "Python 3",
   "language": "python",
   "name": "python3"
  },
  "language_info": {
   "codemirror_mode": {
    "name": "ipython",
    "version": 3
   },
   "file_extension": ".py",
   "mimetype": "text/x-python",
   "name": "python",
   "nbconvert_exporter": "python",
   "pygments_lexer": "ipython3",
   "version": "3.6.2"
  }
 },
 "nbformat": 4,
 "nbformat_minor": 2
}
