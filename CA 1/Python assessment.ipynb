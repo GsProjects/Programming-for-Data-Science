{
 "cells": [
  {
   "cell_type": "markdown",
   "metadata": {},
   "source": [
    "# Gearoid Lacey C00183380\n",
    "# Data quality issues and improvements\n",
    "\n",
    "    #NOTE: The following code assumes the 'Food_Inspections.csv' file is in the same directory as the notebook\n",
    "The first data quality issue I know exists is different spellings of the same DBA name. To attempt to counteract this I intend to change all DBA names to lowercase and remove any apostrophes, commas full stops and hypens. I will also remove leading and trailing whitespace. I also perform some amendments to the variations of the names mcdonalds, subway, dunkin donuts, 7 eleven and kfc.\n",
    "\n",
    "Another issue I intend to fix is location data being stored as seperate values and also in a combined string in the location column. From my initial inspections the location data in the location column appears to be more accurate so removing the seperate location rows would appear to be the better option. I initially populate the location column if its empty by creating a tuple and storing the values from the latitude and longitude columns in it. There are also some outliers regarding the location, longitude and latitude rows. There were rows without any location latitude or longitude data but I still keep these rows as theres also an address and zip code which could be used to locate a premises. Note there where no rows missing an address value. Empty cells are populated with the value 'null'\n",
    "\n",
    "I also noticed that some rows are missing information, therefore I chose to populate these rows with the value null as they are predominatly text based. If they were numerically based then you could potentially fill the missing values with a zero to keep the rows. \n",
    "\n",
    "In rows that are missing an AKA Name I will copy in the DBA Name. Or in rows that are missing a DBA Name I copy in the AKA Name. Although the AKA Name is not the legal name of the business copying the AKA Name into the DBA Name may still be useful as they are often quite similar.\n",
    "\n",
    "As the data is based on premises's in Chicago Illinois, the state column was dropped. \n",
    "\n",
    "I noticed that some city values contained misspellings or were populated with names of other cities in Illinois. To counteract this I look for the substring 'chicago' in every city cell. When a city does not contain the chicago substring, I remove the original value and insert 'non-chicago address, attention required' in its place meaning the address or the location column should be used to determine which city the facility is in. Also one city value used was \"chcicago\". As looking for the substring \"chicago\" would not work in this case I look specifically for this value also and change it to \"chicago\".\n",
    "\n",
    "Also the dates were in the format mm/dd/yyyy. To adjust this I split the date on the occurence of the \"/\" and reconstruct the date so it is in the format of dd/mm/yyyy. I also allow for dates that contain hyphens instead of forward slashes, if they occur I change them to forward slashes.\n",
    "\n",
    "When working with the Inspection type column I noticed numerous faults. One of the values present in this column was \"two people ate and got sick\". To me this is not categorical, therefore I replace that string with \"suspected food poisoning\" which is another category within this column. Also there were numerous different types of canvass inspections most of which had different spellings of the word canvass. Therefore I ammended each of these spelling mistakes by using the replace function and explicitly stating the error and the replacement value. Another error in the Inspection Type column is when the user performing the inspection appears to leave reminders in the inspection type value e.g 'finish complaint inspection from 5 18 10'. As this Inspection type is in relation to a a complaint I will change the value in the cell to 'complaint'.\n",
    "\n",
    "I also noticed errors with duplicate license numbers where the license number is 0. As this license number was being assigned to numerous different premises which is incorrect according to the dataset description linked below. I will replace any row with a license number 0 to 'unknown'\n",
    "\n",
    "Also it is worth noting that the first function my code will run to completion is one that changes every cell to lowercase to avoid discrepencies with upper and lowercase characters.\n",
    "\n",
    "Regarding duplicates in the csv file, if you open the data in excel and highlight every column except the inspection id column and then press the remove duplicates function in the data tab, it says there are appoximately 87 duplicates. As the inspection ID was different for these, then technically the rows are not duplicated and hence I did not remove them.\n",
    "\n",
    "Dataset description: https://data.cityofchicago.org/api/assets/BAD5301B-681A-4202-9D25-51B2CAE672FF\n",
    "\n",
    "\n"
   ]
  },
  {
   "cell_type": "code",
   "execution_count": 1,
   "metadata": {},
   "outputs": [
    {
     "name": "stdout",
     "output_type": "stream",
     "text": [
      "Processing finished\n",
      "CPU times: user 12.7 s, sys: 593 ms, total: 13.3 s\n",
      "Wall time: 13.6 s\n"
     ]
    }
   ],
   "source": [
    "%%time\n",
    "import csv\n",
    "\n",
    "\n",
    "food = list(csv.DictReader(open('Food_Inspections.csv')))\n",
    "\n",
    "\n",
    "def fill_cells(data):  # replace empty cells with null value\n",
    "    result = amend_duplicate_license_number(data)\n",
    "    for x in result:\n",
    "        for value in x.keys():\n",
    "            if x[value] == '':\n",
    "                x[value] = 'null'\n",
    "            if len(x['Location']) == 2: #  if location is ('','')\n",
    "                x['Location'] = 'unknown'\n",
    "    return result\n",
    "\n",
    "\n",
    "def amend_duplicate_license_number(data): # license # 0 is duplicated for numerous premises, so change value to unknown\n",
    "    result = amend_inspections(data)\n",
    "    for items in result:\n",
    "        if items['License #'] == '0':\n",
    "            items['License #'] = 'unknown'\n",
    "    return result\n",
    "\n",
    "\n",
    "def amend_inspections(data): # clean inspection type data\n",
    "    result = amend_duplicate_names(data)\n",
    "    for items in result:\n",
    "        items['Inspection Type'] = items['Inspection Type'].replace('canvas', 'canvass')\n",
    "        items['Inspection Type'] = items['Inspection Type'].replace('canvasss', 'canvass')\n",
    "        items['Inspection Type'] = items['Inspection Type'].replace('out ofbusiness', 'out of business')\n",
    "        items['Inspection Type'] = items['Inspection Type'].replace('canvasss for rib fest', 'canvass for rib fest')\n",
    "        items['Inspection Type'] = items['Inspection Type'].replace('canvasss special event', 'canvass special event')\n",
    "        items['Inspection Type'] = items['Inspection Type'].replace('fire complain', 'fire complaint')\n",
    "        items['Inspection Type'] = items['Inspection Type'].replace('two people ate and got sick', 'suspected food poisoning')\n",
    "        items['Inspection Type'] = items['Inspection Type'].replace('finish complaint inspection from 5 18 10', 'complaint')\n",
    "    return result\n",
    "\n",
    "\n",
    "def amend_duplicate_names(data):\n",
    "    result = remove_duplicate_locations(data)\n",
    "    for items in result:\n",
    "        items['DBA Name'] = items['DBA Name'].replace('mc donalds', 'mcdonalds')\n",
    "        items['DBA Name'] = items['DBA Name'].replace('mcdonalds restaurant', 'mcdonalds')\n",
    "        items['DBA Name'] = items['DBA Name'].replace('subway sandwiches', 'subway')\n",
    "        items['DBA Name'] = items['DBA Name'].replace('subway sandwich', 'subway')\n",
    "        items['DBA Name'] = items['DBA Name'].replace('subway restaurant', 'subway')\n",
    "        items['DBA Name'] = items['DBA Name'].replace('dunkin donuts   baskin robbins', 'dunkin donuts')\n",
    "        items['DBA Name'] = items['DBA Name'].replace('dunkin donuts baskin robbins', 'dunkin donuts')\n",
    "        items['DBA Name'] = items['DBA Name'].replace('kentucky fried chicken', 'kfc')\n",
    "        items['DBA Name'] = items['DBA Name'].replace('7   eleven', '7 eleven')\n",
    "\n",
    "    return result\n",
    "\n",
    "\n",
    "def remove_duplicate_locations(data):  # populate empty locations, then remove longitude and latitude columns\n",
    "    result = clean_text_data(data)\n",
    "    temp_data = []\n",
    "    #  If location col empty populate with longitude and latitude\n",
    "    for x in result:\n",
    "        if x['Location'] == '':\n",
    "            location = (x['Latitude'], x['Longitude'])\n",
    "            x['Location'] = location\n",
    "            temp_data.append(x)\n",
    "        else:\n",
    "            temp_data.append(x)\n",
    "\n",
    "    #  Remove longitude and latitude columns\n",
    "    new_data = []\n",
    "    for item in temp_data:\n",
    "        item.pop('Latitude')\n",
    "        item.pop('Longitude')\n",
    "        new_data.append(item)\n",
    "    return new_data\n",
    "\n",
    "\n",
    "def clean_text_data(data):  # remove punctuation and whitespace to remove some duplicates\n",
    "    result = amend_city(data)\n",
    "    text_based_columns = ['DBA Name', 'AKA Name', 'Inspection Type']\n",
    "    for x in result:\n",
    "        for item in text_based_columns:\n",
    "            x[item] = x[item].replace(\"'\", \"\")\n",
    "            x[item] = x[item].replace(\".\", \"\")\n",
    "            x[item] = x[item].replace(\",\", \"\")\n",
    "            x[item] = x[item].replace(\"-\", \" \")\n",
    "            x[item] = x[item].replace(\"/\", \" \")\n",
    "            x[item] = x[item].lstrip(\" \")\n",
    "            x[item] = x[item].rstrip(\" \")\n",
    "    return result\n",
    "\n",
    "\n",
    "def amend_city(data):  # if city value does not contain chicago substring remove the row, then remove the column\n",
    "    result = remove_state(data)\n",
    "    new_data = []\n",
    "    city = 'chicago'\n",
    "    for x in result:\n",
    "        if city in x['City'].lower() or x['City'].lower() == '':\n",
    "            new_data.append(x)\n",
    "        elif x['City'].lower() == 'chcicago':\n",
    "            x['City'] = city\n",
    "        else:\n",
    "            x['City'] = 'non-chicago address, attention required'\n",
    "    return new_data\n",
    "\n",
    "\n",
    "def remove_state(data):\n",
    "    result = change_date_format(data)\n",
    "    for x in result:\n",
    "        x.pop('State')\n",
    "    return result\n",
    "\n",
    "\n",
    "def change_date_format(data):  # changes date from mm/dd/yy to dd/mm/yy\n",
    "    result = fill_names(data)\n",
    "    for x in result:\n",
    "        if x['Inspection Date'] != '':\n",
    "            x['Inspection Date'] = x['Inspection Date'].replace('-', '/')\n",
    "            temporary_date = x['Inspection Date'].split('/')\n",
    "            new_date = temporary_date[1] + '/' + temporary_date[0] + '/' + temporary_date[2]\n",
    "            x['Inspection Date'] = new_date\n",
    "        if '-' in x['Inspection Date']: # if the dates are separated by a hyphen change to forward slash\n",
    "            x['Inspection Date'] = x['Inspection Date'].replace('-', '/')\n",
    "    return result\n",
    "\n",
    "\n",
    "def fill_names(data):  # populate empty name cells if possible\n",
    "    result = change_case(data)\n",
    "    for x in result:\n",
    "        if x['DBA Name'] == '':\n",
    "            x['DBA Name'] = x['AKA Name']\n",
    "        elif x['AKA Name'] == '':\n",
    "            x['AKA Name'] = x['DBA Name']\n",
    "    return data\n",
    "\n",
    "\n",
    "def change_case(data):\n",
    "    for item in data:\n",
    "        for value in item:\n",
    "            item[value] = item[value].lower()\n",
    "    return data        \n",
    "    \n",
    "\n",
    "def write_data(data):\n",
    "    with open('Output.csv', \"w\") as fh:\n",
    "        out_csv = csv.DictWriter(fh, list(data[0].keys()))\n",
    "        out_csv.writeheader()\n",
    "        out_csv.writerows(data)\n",
    "\n",
    "\n",
    "result = fill_cells(food)\n",
    "write_data(result)\n",
    "print('Processing finished')\n"
   ]
  },
  {
   "cell_type": "code",
   "execution_count": null,
   "metadata": {
    "collapsed": true
   },
   "outputs": [],
   "source": []
  },
  {
   "cell_type": "code",
   "execution_count": null,
   "metadata": {
    "collapsed": true
   },
   "outputs": [],
   "source": []
  },
  {
   "cell_type": "code",
   "execution_count": null,
   "metadata": {
    "collapsed": true
   },
   "outputs": [],
   "source": []
  },
  {
   "cell_type": "code",
   "execution_count": null,
   "metadata": {
    "collapsed": true
   },
   "outputs": [],
   "source": []
  },
  {
   "cell_type": "code",
   "execution_count": null,
   "metadata": {
    "collapsed": true
   },
   "outputs": [],
   "source": []
  },
  {
   "cell_type": "code",
   "execution_count": null,
   "metadata": {
    "collapsed": true
   },
   "outputs": [],
   "source": []
  },
  {
   "cell_type": "code",
   "execution_count": null,
   "metadata": {
    "collapsed": true
   },
   "outputs": [],
   "source": []
  },
  {
   "cell_type": "code",
   "execution_count": null,
   "metadata": {
    "collapsed": true
   },
   "outputs": [],
   "source": []
  },
  {
   "cell_type": "code",
   "execution_count": null,
   "metadata": {
    "collapsed": true
   },
   "outputs": [],
   "source": []
  },
  {
   "cell_type": "code",
   "execution_count": null,
   "metadata": {
    "collapsed": true
   },
   "outputs": [],
   "source": []
  },
  {
   "cell_type": "code",
   "execution_count": null,
   "metadata": {
    "collapsed": true
   },
   "outputs": [],
   "source": []
  },
  {
   "cell_type": "code",
   "execution_count": null,
   "metadata": {
    "collapsed": true
   },
   "outputs": [],
   "source": []
  },
  {
   "cell_type": "code",
   "execution_count": null,
   "metadata": {
    "collapsed": true
   },
   "outputs": [],
   "source": []
  },
  {
   "cell_type": "code",
   "execution_count": null,
   "metadata": {
    "collapsed": true
   },
   "outputs": [],
   "source": []
  },
  {
   "cell_type": "code",
   "execution_count": null,
   "metadata": {
    "collapsed": true
   },
   "outputs": [],
   "source": []
  },
  {
   "cell_type": "code",
   "execution_count": null,
   "metadata": {
    "collapsed": true
   },
   "outputs": [],
   "source": []
  },
  {
   "cell_type": "code",
   "execution_count": null,
   "metadata": {
    "collapsed": true
   },
   "outputs": [],
   "source": []
  },
  {
   "cell_type": "code",
   "execution_count": null,
   "metadata": {
    "collapsed": true
   },
   "outputs": [],
   "source": []
  },
  {
   "cell_type": "code",
   "execution_count": null,
   "metadata": {
    "collapsed": true
   },
   "outputs": [],
   "source": []
  },
  {
   "cell_type": "code",
   "execution_count": null,
   "metadata": {
    "collapsed": true
   },
   "outputs": [],
   "source": []
  },
  {
   "cell_type": "code",
   "execution_count": null,
   "metadata": {
    "collapsed": true
   },
   "outputs": [],
   "source": []
  },
  {
   "cell_type": "code",
   "execution_count": null,
   "metadata": {
    "collapsed": true
   },
   "outputs": [],
   "source": []
  },
  {
   "cell_type": "code",
   "execution_count": null,
   "metadata": {
    "collapsed": true
   },
   "outputs": [],
   "source": []
  },
  {
   "cell_type": "code",
   "execution_count": null,
   "metadata": {
    "collapsed": true
   },
   "outputs": [],
   "source": [
    "\n"
   ]
  },
  {
   "cell_type": "code",
   "execution_count": null,
   "metadata": {
    "collapsed": true
   },
   "outputs": [],
   "source": [
    "\n",
    "        "
   ]
  },
  {
   "cell_type": "code",
   "execution_count": null,
   "metadata": {
    "collapsed": true
   },
   "outputs": [],
   "source": []
  }
 ],
 "metadata": {
  "kernelspec": {
   "display_name": "Python 3",
   "language": "python",
   "name": "python3"
  },
  "language_info": {
   "codemirror_mode": {
    "name": "ipython",
    "version": 3
   },
   "file_extension": ".py",
   "mimetype": "text/x-python",
   "name": "python",
   "nbconvert_exporter": "python",
   "pygments_lexer": "ipython3",
   "version": "3.6.2"
  }
 },
 "nbformat": 4,
 "nbformat_minor": 2
}
